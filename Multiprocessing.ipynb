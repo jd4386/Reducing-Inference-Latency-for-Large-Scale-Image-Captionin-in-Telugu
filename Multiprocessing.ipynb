{
 "cells": [
  {
   "cell_type": "code",
   "execution_count": 1,
   "metadata": {},
   "outputs": [],
   "source": [
    "from CaptioningModel import *\n",
    "import time\n",
    "import multiprocessing\n",
    "import matplotlib.pyplot as plt"
   ]
  },
  {
   "cell_type": "code",
   "execution_count": 2,
   "metadata": {},
   "outputs": [],
   "source": [
    "images = 100\n",
    "model = CaptioningModel()\n",
    "cores = [i+1 for i in range(12)]\n",
    "times = []"
   ]
  },
  {
   "cell_type": "code",
   "execution_count": 3,
   "metadata": {},
   "outputs": [],
   "source": [
    "def main(threads):\n",
    "    with multiprocessing.Pool(processes=threads) as pool:\n",
    "        start = time.time()\n",
    "        result = pool.map(model.predict, model.train_images[:images])\n",
    "        end = time.time()\n",
    "    \n",
    "    return end - start"
   ]
  },
  {
   "cell_type": "code",
   "execution_count": 4,
   "metadata": {},
   "outputs": [
    {
     "name": "stdout",
     "output_type": "stream",
     "text": [
      "408.9051730632782\n"
     ]
    }
   ],
   "source": [
    "if __name__==\"__main__\":\n",
    "    time_taken = main(1)\n",
    "    times.append(time_taken)\n",
    "    print(time_taken)"
   ]
  },
  {
   "cell_type": "code",
   "execution_count": 5,
   "metadata": {},
   "outputs": [
    {
     "name": "stdout",
     "output_type": "stream",
     "text": [
      "226.10282611846924\n"
     ]
    }
   ],
   "source": [
    "if __name__==\"__main__\":\n",
    "    time_taken = main(2)\n",
    "    times.append(time_taken)\n",
    "    print(time_taken)"
   ]
  },
  {
   "cell_type": "code",
   "execution_count": 6,
   "metadata": {},
   "outputs": [
    {
     "name": "stdout",
     "output_type": "stream",
     "text": [
      "167.7237000465393\n"
     ]
    }
   ],
   "source": [
    "if __name__==\"__main__\":\n",
    "    time_taken = main(3)\n",
    "    times.append(time_taken)\n",
    "    print(time_taken)"
   ]
  },
  {
   "cell_type": "code",
   "execution_count": 7,
   "metadata": {},
   "outputs": [
    {
     "name": "stdout",
     "output_type": "stream",
     "text": [
      "140.21342182159424\n"
     ]
    }
   ],
   "source": [
    "if __name__==\"__main__\":\n",
    "    time_taken = main(4)\n",
    "    times.append(time_taken)\n",
    "    print(time_taken)"
   ]
  },
  {
   "cell_type": "code",
   "execution_count": 8,
   "metadata": {},
   "outputs": [
    {
     "name": "stdout",
     "output_type": "stream",
     "text": [
      "119.93955707550049\n"
     ]
    }
   ],
   "source": [
    "if __name__==\"__main__\":\n",
    "    time_taken = main(5)\n",
    "    times.append(time_taken)\n",
    "    print(time_taken)"
   ]
  },
  {
   "cell_type": "code",
   "execution_count": 9,
   "metadata": {},
   "outputs": [
    {
     "name": "stdout",
     "output_type": "stream",
     "text": [
      "128.39286494255066\n"
     ]
    }
   ],
   "source": [
    "if __name__==\"__main__\":\n",
    "    time_taken = main(6)\n",
    "    times.append(time_taken)\n",
    "    print(time_taken)"
   ]
  },
  {
   "cell_type": "code",
   "execution_count": 10,
   "metadata": {},
   "outputs": [
    {
     "name": "stdout",
     "output_type": "stream",
     "text": [
      "119.31886696815491\n"
     ]
    }
   ],
   "source": [
    "if __name__==\"__main__\":\n",
    "    time_taken = main(7)\n",
    "    times.append(time_taken)\n",
    "    print(time_taken)"
   ]
  },
  {
   "cell_type": "code",
   "execution_count": 11,
   "metadata": {},
   "outputs": [
    {
     "name": "stdout",
     "output_type": "stream",
     "text": [
      "130.32166194915771\n"
     ]
    }
   ],
   "source": [
    "if __name__==\"__main__\":\n",
    "    time_taken = main(8)\n",
    "    times.append(time_taken)\n",
    "    print(time_taken)"
   ]
  },
  {
   "cell_type": "code",
   "execution_count": 12,
   "metadata": {},
   "outputs": [
    {
     "name": "stdout",
     "output_type": "stream",
     "text": [
      "115.92104601860046\n"
     ]
    }
   ],
   "source": [
    "if __name__==\"__main__\":\n",
    "    time_taken = main(9)\n",
    "    times.append(time_taken)\n",
    "    print(time_taken)"
   ]
  },
  {
   "cell_type": "code",
   "execution_count": 13,
   "metadata": {},
   "outputs": [
    {
     "name": "stdout",
     "output_type": "stream",
     "text": [
      "123.1021180152893\n"
     ]
    }
   ],
   "source": [
    "if __name__==\"__main__\":\n",
    "    time_taken = main(10)\n",
    "    times.append(time_taken)\n",
    "    print(time_taken)"
   ]
  },
  {
   "cell_type": "code",
   "execution_count": 14,
   "metadata": {},
   "outputs": [
    {
     "name": "stdout",
     "output_type": "stream",
     "text": [
      "118.33470296859741\n"
     ]
    }
   ],
   "source": [
    "if __name__==\"__main__\":\n",
    "    time_taken = main(11)\n",
    "    times.append(time_taken)\n",
    "    print(time_taken)"
   ]
  },
  {
   "cell_type": "code",
   "execution_count": 15,
   "metadata": {},
   "outputs": [
    {
     "name": "stdout",
     "output_type": "stream",
     "text": [
      "116.16147470474243\n"
     ]
    }
   ],
   "source": [
    "if __name__==\"__main__\":\n",
    "    time_taken = main(12)\n",
    "    times.append(time_taken)\n",
    "    print(time_taken)"
   ]
  },
  {
   "cell_type": "code",
   "execution_count": 16,
   "metadata": {},
   "outputs": [
    {
     "data": {
      "image/png": "[encoded data removed]",
      "text/plain": [
       "<Figure size 432x288 with 1 Axes>"
      ]
     },
     "metadata": {
      "needs_background": "light"
     },
     "output_type": "display_data"
    }
   ],
   "source": [
    "plt.bar(cores, times)\n",
    "plt.show()"
   ]
  },
  {
   "cell_type": "code",
   "execution_count": 17,
   "metadata": {},
   "outputs": [
    {
     "data": {
      "text/plain": [
       "[408.9051730632782,\n",
       " 226.10282611846924,\n",
       " 167.7237000465393,\n",
       " 140.21342182159424,\n",
       " 119.93955707550049,\n",
       " 128.39286494255066,\n",
       " 119.31886696815491,\n",
       " 130.32166194915771,\n",
       " 115.92104601860046,\n",
       " 123.1021180152893,\n",
       " 118.33470296859741,\n",
       " 116.16147470474243]"
      ]
     },
     "execution_count": 17,
     "metadata": {},
     "output_type": "execute_result"
    }
   ],
   "source": [
    "times"
   ]
  },
  {
   "cell_type": "code",
   "execution_count": null,
   "metadata": {},
   "outputs": [],
   "source": []
  }
 ],
 "metadata": {
  "kernelspec": {
   "display_name": "Python 3",
   "language": "python",
   "name": "python3"
  },
  "language_info": {
   "codemirror_mode": {
    "name": "ipython",
    "version": 3
   },
   "file_extension": ".py",
   "mimetype": "text/x-python",
   "name": "python",
   "nbconvert_exporter": "python",
   "pygments_lexer": "ipython3",
   "version": "3.8.1"
  }
 },
 "nbformat": 4,
 "nbformat_minor": 4
}
