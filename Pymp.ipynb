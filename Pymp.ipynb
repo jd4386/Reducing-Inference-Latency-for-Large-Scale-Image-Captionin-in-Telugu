{
 "cells": [
  {
   "cell_type": "code",
   "execution_count": 1,
   "metadata": {},
   "outputs": [],
   "source": [
    "from CaptioningModel import *\n",
    "import time\n",
    "import pymp\n",
    "import matplotlib.pyplot as plt"
   ]
  },
  {
   "cell_type": "code",
   "execution_count": 2,
   "metadata": {},
   "outputs": [],
   "source": [
    "images = 100\n",
    "model = CaptioningModel()\n",
    "cores = [i+1 for i in range(12)]\n",
    "times = []"
   ]
  },
  {
   "cell_type": "code",
   "execution_count": 3,
   "metadata": {},
   "outputs": [],
   "source": [
    "def main(threads):\n",
    "    with pymp.Parallel(num_threads=threads) as p:\n",
    "        start = time.time()\n",
    "        result = [model.predict(model.train_images[i]) for i in p.xrange(images)]\n",
    "        end = time.time()\n",
    "    \n",
    "    return end - start"
   ]
  },
  {
   "cell_type": "code",
   "execution_count": 4,
   "metadata": {},
   "outputs": [
    {
     "name": "stdout",
     "output_type": "stream",
     "text": [
      "421.2469379901886\n"
     ]
    }
   ],
   "source": [
    "time_taken = main(1)\n",
    "times.append(time_taken)\n",
    "print(time_taken)"
   ]
  },
  {
   "cell_type": "code",
   "execution_count": 4,
   "metadata": {},
   "outputs": [
    {
     "name": "stdout",
     "output_type": "stream",
     "text": [
      "221.1995861530304\n"
     ]
    }
   ],
   "source": [
    "time_taken = main(2)\n",
    "times.append(time_taken)\n",
    "print(time_taken)"
   ]
  },
  {
   "cell_type": "code",
   "execution_count": 4,
   "metadata": {},
   "outputs": [
    {
     "name": "stdout",
     "output_type": "stream",
     "text": [
      "156.56524109840393\n"
     ]
    }
   ],
   "source": [
    "time_taken = main(3)\n",
    "times.append(time_taken)\n",
    "print(time_taken)"
   ]
  },
  {
   "cell_type": "code",
   "execution_count": 4,
   "metadata": {},
   "outputs": [
    {
     "name": "stdout",
     "output_type": "stream",
     "text": [
      "125.66569709777832\n"
     ]
    }
   ],
   "source": [
    "time_taken = main(4)\n",
    "times.append(time_taken)\n",
    "print(time_taken)"
   ]
  },
  {
   "cell_type": "code",
   "execution_count": 4,
   "metadata": {},
   "outputs": [
    {
     "name": "stdout",
     "output_type": "stream",
     "text": [
      "110.58157896995544\n"
     ]
    }
   ],
   "source": [
    "time_taken = main(5)\n",
    "times.append(time_taken)\n",
    "print(time_taken)"
   ]
  },
  {
   "cell_type": "code",
   "execution_count": 4,
   "metadata": {},
   "outputs": [
    {
     "name": "stdout",
     "output_type": "stream",
     "text": [
      "101.94848299026489\n"
     ]
    }
   ],
   "source": [
    "time_taken = main(6)\n",
    "times.append(time_taken)\n",
    "print(time_taken)"
   ]
  },
  {
   "cell_type": "code",
   "execution_count": 4,
   "metadata": {},
   "outputs": [
    {
     "name": "stdout",
     "output_type": "stream",
     "text": [
      "101.3716561794281\n"
     ]
    }
   ],
   "source": [
    "time_taken = main(7)\n",
    "times.append(time_taken)\n",
    "print(time_taken)"
   ]
  },
  {
   "cell_type": "code",
   "execution_count": 4,
   "metadata": {},
   "outputs": [
    {
     "name": "stdout",
     "output_type": "stream",
     "text": [
      "101.90409779548645\n"
     ]
    }
   ],
   "source": [
    "time_taken = main(8)\n",
    "times.append(time_taken)\n",
    "print(time_taken)"
   ]
  },
  {
   "cell_type": "code",
   "execution_count": 4,
   "metadata": {},
   "outputs": [
    {
     "name": "stdout",
     "output_type": "stream",
     "text": [
      "96.30528831481934\n"
     ]
    }
   ],
   "source": [
    "time_taken = main(9)\n",
    "times.append(time_taken)\n",
    "print(time_taken)"
   ]
  },
  {
   "cell_type": "code",
   "execution_count": 4,
   "metadata": {},
   "outputs": [
    {
     "name": "stdout",
     "output_type": "stream",
     "text": [
      "100.03454804420471\n"
     ]
    }
   ],
   "source": [
    "time_taken = main(10)\n",
    "times.append(time_taken)\n",
    "print(time_taken)"
   ]
  },
  {
   "cell_type": "code",
   "execution_count": 4,
   "metadata": {},
   "outputs": [
    {
     "name": "stdout",
     "output_type": "stream",
     "text": [
      "95.89168906211853\n"
     ]
    }
   ],
   "source": [
    "time_taken = main(11)\n",
    "times.append(time_taken)\n",
    "print(time_taken)"
   ]
  },
  {
   "cell_type": "code",
   "execution_count": 4,
   "metadata": {},
   "outputs": [
    {
     "name": "stdout",
     "output_type": "stream",
     "text": [
      "94.81819891929626\n"
     ]
    }
   ],
   "source": [
    "time_taken = main(12)\n",
    "times.append(time_taken)\n",
    "print(time_taken)"
   ]
  },
  {
   "cell_type": "code",
   "execution_count": 5,
   "metadata": {},
   "outputs": [],
   "source": [
    "times = [\n",
    "    421.2469379901886,\n",
    "    221.1995861530304,\n",
    "    156.56524109840393,\n",
    "    125.66569709777832,\n",
    "    110.58157896995544,\n",
    "    101.94848299026489,\n",
    "    101.3716561794281,\n",
    "    101.90409779548645,\n",
    "    96.30528831481934,\n",
    "    100.03454804420471,\n",
    "    95.89168906211853,\n",
    "    94.81819891929626\n",
    "]"
   ]
  },
  {
   "cell_type": "code",
   "execution_count": 6,
   "metadata": {},
   "outputs": [
    {
     "data": {
      "image/png": "[encoded data removed]",
      "text/plain": [
       "<Figure size 432x288 with 1 Axes>"
      ]
     },
     "metadata": {
      "needs_background": "light"
     },
     "output_type": "display_data"
    }
   ],
   "source": [
    "plt.bar(cores, times)\n",
    "plt.show()"
   ]
  },
  {
   "cell_type": "code",
   "execution_count": 7,
   "metadata": {},
   "outputs": [
    {
     "data": {
      "text/plain": [
       "[421.2469379901886,\n",
       " 221.1995861530304,\n",
       " 156.56524109840393,\n",
       " 125.66569709777832,\n",
       " 110.58157896995544,\n",
       " 101.94848299026489,\n",
       " 101.3716561794281,\n",
       " 101.90409779548645,\n",
       " 96.30528831481934,\n",
       " 100.03454804420471,\n",
       " 95.89168906211853,\n",
       " 94.81819891929626]"
      ]
     },
     "execution_count": 7,
     "metadata": {},
     "output_type": "execute_result"
    }
   ],
   "source": [
    "times"
   ]
  },
  {
   "cell_type": "code",
   "execution_count": null,
   "metadata": {},
   "outputs": [],
   "source": []
  }
 ],
 "metadata": {
  "kernelspec": {
   "display_name": "Python 3",
   "language": "python",
   "name": "python3"
  },
  "language_info": {
   "codemirror_mode": {
    "name": "ipython",
    "version": 3
   },
   "file_extension": ".py",
   "mimetype": "text/x-python",
   "name": "python",
   "nbconvert_exporter": "python",
   "pygments_lexer": "ipython3",
   "version": "3.8.1"
  }
 },
 "nbformat": 4,
 "nbformat_minor": 4
}
