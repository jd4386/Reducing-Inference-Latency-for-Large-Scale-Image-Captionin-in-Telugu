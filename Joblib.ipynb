{
 "cells": [
  {
   "cell_type": "code",
   "execution_count": 1,
   "metadata": {},
   "outputs": [],
   "source": [
    "from CaptioningModel import *\n",
    "import time\n",
    "from joblib import Parallel, delayed\n",
    "import matplotlib.pyplot as plt"
   ]
  },
  {
   "cell_type": "code",
   "execution_count": 2,
   "metadata": {},
   "outputs": [],
   "source": [
    "images = 100\n",
    "model = CaptioningModel()\n",
    "cores = [i+1 for i in range(12)]\n",
    "times = []"
   ]
  },
  {
   "cell_type": "code",
   "execution_count": 3,
   "metadata": {},
   "outputs": [],
   "source": [
    "def main(threads):\n",
    "    start = time.time()\n",
    "    result = Parallel(n_jobs=threads)(delayed(model.predict)(model.train_images[i]) for i in range(images))\n",
    "    end = time.time()\n",
    "    \n",
    "    return end - start"
   ]
  },
  {
   "cell_type": "code",
   "execution_count": 4,
   "metadata": {},
   "outputs": [
    {
     "name": "stdout",
     "output_type": "stream",
     "text": [
      "416.2002320289612\n"
     ]
    }
   ],
   "source": [
    "if __name__==\"__main__\":\n",
    "    time_taken = main(1)\n",
    "    times.append(time_taken)\n",
    "    print(time_taken)"
   ]
  },
  {
   "cell_type": "code",
   "execution_count": 5,
   "metadata": {},
   "outputs": [
    {
     "name": "stdout",
     "output_type": "stream",
     "text": [
      "223.3727080821991\n"
     ]
    }
   ],
   "source": [
    "if __name__==\"__main__\":\n",
    "    time_taken = main(2)\n",
    "    times.append(time_taken)\n",
    "    print(time_taken)"
   ]
  },
  {
   "cell_type": "code",
   "execution_count": 6,
   "metadata": {},
   "outputs": [
    {
     "name": "stdout",
     "output_type": "stream",
     "text": [
      "161.57163906097412\n"
     ]
    }
   ],
   "source": [
    "if __name__==\"__main__\":\n",
    "    time_taken = main(3)\n",
    "    times.append(time_taken)\n",
    "    print(time_taken)"
   ]
  },
  {
   "cell_type": "code",
   "execution_count": 7,
   "metadata": {},
   "outputs": [
    {
     "name": "stdout",
     "output_type": "stream",
     "text": [
      "135.62369179725647\n"
     ]
    }
   ],
   "source": [
    "if __name__==\"__main__\":\n",
    "    time_taken = main(4)\n",
    "    times.append(time_taken)\n",
    "    print(time_taken)"
   ]
  },
  {
   "cell_type": "code",
   "execution_count": 8,
   "metadata": {},
   "outputs": [
    {
     "name": "stdout",
     "output_type": "stream",
     "text": [
      "125.90607500076294\n"
     ]
    }
   ],
   "source": [
    "if __name__==\"__main__\":\n",
    "    time_taken = main(5)\n",
    "    times.append(time_taken)\n",
    "    print(time_taken)"
   ]
  },
  {
   "cell_type": "code",
   "execution_count": 9,
   "metadata": {},
   "outputs": [
    {
     "name": "stdout",
     "output_type": "stream",
     "text": [
      "115.64101099967957\n"
     ]
    }
   ],
   "source": [
    "if __name__==\"__main__\":\n",
    "    time_taken = main(6)\n",
    "    times.append(time_taken)\n",
    "    print(time_taken)"
   ]
  },
  {
   "cell_type": "code",
   "execution_count": 10,
   "metadata": {},
   "outputs": [
    {
     "name": "stdout",
     "output_type": "stream",
     "text": [
      "122.25388288497925\n"
     ]
    }
   ],
   "source": [
    "if __name__==\"__main__\":\n",
    "    time_taken = main(7)\n",
    "    times.append(time_taken)\n",
    "    print(time_taken)"
   ]
  },
  {
   "cell_type": "code",
   "execution_count": 11,
   "metadata": {},
   "outputs": [
    {
     "name": "stdout",
     "output_type": "stream",
     "text": [
      "115.64423704147339\n"
     ]
    }
   ],
   "source": [
    "if __name__==\"__main__\":\n",
    "    time_taken = main(8)\n",
    "    times.append(time_taken)\n",
    "    print(time_taken)"
   ]
  },
  {
   "cell_type": "code",
   "execution_count": 12,
   "metadata": {},
   "outputs": [
    {
     "name": "stdout",
     "output_type": "stream",
     "text": [
      "117.15916085243225\n"
     ]
    }
   ],
   "source": [
    "if __name__==\"__main__\":\n",
    "    time_taken = main(9)\n",
    "    times.append(time_taken)\n",
    "    print(time_taken)"
   ]
  },
  {
   "cell_type": "code",
   "execution_count": 13,
   "metadata": {},
   "outputs": [
    {
     "name": "stdout",
     "output_type": "stream",
     "text": [
      "114.12886786460876\n"
     ]
    }
   ],
   "source": [
    "if __name__==\"__main__\":\n",
    "    time_taken = main(10)\n",
    "    times.append(time_taken)\n",
    "    print(time_taken)"
   ]
  },
  {
   "cell_type": "code",
   "execution_count": 14,
   "metadata": {},
   "outputs": [
    {
     "name": "stdout",
     "output_type": "stream",
     "text": [
      "114.89143919944763\n"
     ]
    }
   ],
   "source": [
    "if __name__==\"__main__\":\n",
    "    time_taken = main(11)\n",
    "    times.append(time_taken)\n",
    "    print(time_taken)"
   ]
  },
  {
   "cell_type": "code",
   "execution_count": 15,
   "metadata": {},
   "outputs": [
    {
     "name": "stdout",
     "output_type": "stream",
     "text": [
      "112.76458072662354\n"
     ]
    }
   ],
   "source": [
    "if __name__==\"__main__\":\n",
    "    time_taken = main(12)\n",
    "    times.append(time_taken)\n",
    "    print(time_taken)"
   ]
  },
  {
   "cell_type": "code",
   "execution_count": 16,
   "metadata": {},
   "outputs": [
    {
     "data": {
      "image/png": "[encoded data removed]",
      "text/plain": [
       "<Figure size 432x288 with 1 Axes>"
      ]
     },
     "metadata": {
      "needs_background": "light"
     },
     "output_type": "display_data"
    }
   ],
   "source": [
    "plt.bar(cores, times)\n",
    "plt.show()"
   ]
  },
  {
   "cell_type": "code",
   "execution_count": 17,
   "metadata": {},
   "outputs": [
    {
     "data": {
      "text/plain": [
       "[416.2002320289612,\n",
       " 223.3727080821991,\n",
       " 161.57163906097412,\n",
       " 135.62369179725647,\n",
       " 125.90607500076294,\n",
       " 115.64101099967957,\n",
       " 122.25388288497925,\n",
       " 115.64423704147339,\n",
       " 117.15916085243225,\n",
       " 114.12886786460876,\n",
       " 114.89143919944763,\n",
       " 112.76458072662354]"
      ]
     },
     "execution_count": 17,
     "metadata": {},
     "output_type": "execute_result"
    }
   ],
   "source": [
    "times"
   ]
  },
  {
   "cell_type": "code",
   "execution_count": null,
   "metadata": {},
   "outputs": [],
   "source": []
  }
 ],
 "metadata": {
  "kernelspec": {
   "display_name": "Python 3",
   "language": "python",
   "name": "python3"
  },
  "language_info": {
   "codemirror_mode": {
    "name": "ipython",
    "version": 3
   },
   "file_extension": ".py",
   "mimetype": "text/x-python",
   "name": "python",
   "nbconvert_exporter": "python",
   "pygments_lexer": "ipython3",
   "version": "3.8.1"
  }
 },
 "nbformat": 4,
 "nbformat_minor": 4
}
